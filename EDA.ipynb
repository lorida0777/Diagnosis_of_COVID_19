{
 "cells": [
  {
   "cell_type": "code",
   "execution_count": null,
   "id": "4bb04392-ba74-4dde-8a61-2a073565696b",
   "metadata": {},
   "outputs": [],
   "source": []
  }
 ],
 "metadata": {
  "kernelspec": {
   "display_name": "",
   "name": ""
  },
  "language_info": {
   "name": ""
  }
 },
 "nbformat": 4,
 "nbformat_minor": 5
}
