{
 "cells": [
  {
   "cell_type": "code",
   "execution_count": null,
   "id": "771e7a8b-34ba-491b-a2ed-b6a66538660e",
   "metadata": {},
   "outputs": [],
   "source": []
  }
 ],
 "metadata": {
  "kernelspec": {
   "display_name": "",
   "name": ""
  },
  "language_info": {
   "name": ""
  }
 },
 "nbformat": 4,
 "nbformat_minor": 5
}
